{
  "cells": [
    {
      "cell_type": "markdown",
      "metadata": {
        "id": "h7E9YvBEknnP"
      },
      "source": [
        "# Chap.4 numpy套件(numeric python)\n",
        "## 為什麼需要numpy?\n",
        "* numpy由c撰寫，速度快python 10~1000倍以上\n",
        "* numpy儲存結果較正確，python數字儲存不正確\n",
        "* numpy節省記憶體儲存空間\n",
        "* numpy的向量(矩陣計算)速度快\n",
        "* numpy的取值方便"
      ]
    },
    {
      "cell_type": "code",
      "execution_count": null,
      "metadata": {
        "id": "79fzMdM-knnU",
        "outputId": "17983587-e2db-44ce-aad2-452e472bf428"
      },
      "outputs": [
        {
          "name": "stdout",
          "output_type": "stream",
          "text": [
            "[1, 2, 3, 4, 5, 1, 2, 3, 4, 5, 1, 2, 3, 4, 5]\n"
          ]
        }
      ],
      "source": [
        "a_list=[1,2,3,4,5]\n",
        "print(a_list*3)"
      ]
    },
    {
      "cell_type": "code",
      "execution_count": null,
      "metadata": {
        "id": "OvF6aMknknnX",
        "outputId": "5513fb34-5719-4c61-e8e9-a983105199af"
      },
      "outputs": [
        {
          "name": "stdout",
          "output_type": "stream",
          "text": [
            "[ 3  6  9 12 15]\n"
          ]
        }
      ],
      "source": [
        "#numpy套件的ndarray型態,提供element-wise的操作\n",
        "import numpy as np\n",
        "a=np.array([1,2,3,4,5])\n",
        "print(a*3)"
      ]
    },
    {
      "cell_type": "code",
      "execution_count": null,
      "metadata": {
        "id": "xrgQlaSzknnY",
        "outputId": "a6598432-aefd-4fee-ac2a-23518156649f"
      },
      "outputs": [
        {
          "name": "stdout",
          "output_type": "stream",
          "text": [
            "<class 'numpy.ndarray'>\n",
            "(5,)\n",
            "int32\n",
            "1\n"
          ]
        }
      ],
      "source": [
        "a=np.array([1,2,3,4,5])\n",
        "print(type(a))\n",
        "print(a.shape) #ndaary的形狀\n",
        "print(a.dtype) #資料的型態\n",
        "print(a.ndim) #維度"
      ]
    },
    {
      "cell_type": "code",
      "execution_count": null,
      "metadata": {
        "id": "B-XWrwdrknnZ",
        "outputId": "04f4915b-4dfa-4b73-c6e6-dbd129dcc42a"
      },
      "outputs": [
        {
          "name": "stdout",
          "output_type": "stream",
          "text": [
            "[0. 0. 0. 0. 0. 0.]\n",
            "[[[0. 0. 0. 0.]\n",
            "  [0. 0. 0. 0.]\n",
            "  [0. 0. 0. 0.]]\n",
            "\n",
            " [[0. 0. 0. 0.]\n",
            "  [0. 0. 0. 0.]\n",
            "  [0. 0. 0. 0.]]]\n",
            "[0 1 2 3 4 5 6 7 8 9]\n"
          ]
        }
      ],
      "source": [
        "import numpy as np\n",
        "z=np.zeros(6)\n",
        "print(z)\n",
        "print(np.empty((2,3,4)))\n",
        "print(np.arange(10))"
      ]
    },
    {
      "cell_type": "markdown",
      "metadata": {
        "id": "PAY_I5UJknnZ"
      },
      "source": [
        "## ndarray的進階操作"
      ]
    },
    {
      "cell_type": "code",
      "execution_count": null,
      "metadata": {
        "id": "ZFqs7r2xknna",
        "outputId": "ae5513c8-9b8b-4310-9990-1abb76ccad96"
      },
      "outputs": [
        {
          "name": "stdout",
          "output_type": "stream",
          "text": [
            "[0 1 2 3 4 5 6 7 8 9]\n",
            "0\n",
            "[0 1 2 3 4]\n"
          ]
        }
      ],
      "source": [
        "my_array=np.arange(10)\n",
        "print(my_array)\n",
        "print(my_array[0])\n",
        "print(my_array[0:5])"
      ]
    },
    {
      "cell_type": "markdown",
      "metadata": {
        "id": "0zLa7qeNknnb"
      },
      "source": [
        "### 2維資料取值"
      ]
    },
    {
      "cell_type": "code",
      "execution_count": null,
      "metadata": {
        "id": "_SNffQ9yknnb",
        "outputId": "c0c2952d-2b34-4217-937a-9856ccd65672"
      },
      "outputs": [
        {
          "name": "stdout",
          "output_type": "stream",
          "text": [
            "[[0 1 2 3 4]\n",
            " [5 6 7 8 9]]\n",
            "[5 6 7 8 9]\n",
            "[1 6]\n",
            "6\n"
          ]
        }
      ],
      "source": [
        "my_2d_array=np.array([np.arange(0,5),np.arange(5,10)])\n",
        "print(my_2d_array)\n",
        "print(my_2d_array[1,:])\n",
        "print(my_2d_array[:,1])\n",
        "print(my_2d_array[1,1])"
      ]
    },
    {
      "cell_type": "code",
      "execution_count": null,
      "metadata": {
        "id": "A5G5M0k9knnc",
        "outputId": "f04ef48c-7a0e-44cc-c335-13de055201b1"
      },
      "outputs": [
        {
          "name": "stdout",
          "output_type": "stream",
          "text": [
            "[0 1 2 3 4 5 6 7 8 9]\n",
            "(10,)\n",
            "[[0 1 2 3 4]\n",
            " [5 6 7 8 9]]\n",
            "[[ 0  1  2  3  4  5  6  7  8  9]\n",
            " [10 11 12 13 14 15 16 17 18 19]\n",
            " [20 21 22 23 24 25 26 27 28 29]\n",
            " [30 31 32 33 34 35 36 37 38 39]\n",
            " [40 41 42 43 44 45 46 47 48 49]\n",
            " [50 51 52 53 54 55 56 57 58 59]\n",
            " [60 61 62 63 64 65 66 67 68 69]\n",
            " [70 71 72 73 74 75 76 77 78 79]\n",
            " [80 81 82 83 84 85 86 87 88 89]\n",
            " [90 91 92 93 94 95 96 97 98 99]]\n"
          ]
        }
      ],
      "source": [
        "my_array=np.arange(0,10)\n",
        "print(my_array)\n",
        "print(my_array.shape)\n",
        "my_2d_array=my_array.reshape(2,5)\n",
        "print(my_2d_array)\n",
        "print((np.arange(0,100).reshape(10,10)))"
      ]
    },
    {
      "cell_type": "markdown",
      "metadata": {
        "id": "C-FEy21oknnd"
      },
      "source": [
        "### numpy的空值nan"
      ]
    },
    {
      "cell_type": "code",
      "execution_count": null,
      "metadata": {
        "id": "Aj-xYWfMknnd",
        "outputId": "5189266e-597f-4df9-8be2-910d006a57a9"
      },
      "outputs": [
        {
          "name": "stdout",
          "output_type": "stream",
          "text": [
            "[56.  8. 19. 14. nan]\n"
          ]
        }
      ],
      "source": [
        "b=np.array([56, 8, 19, 14, np.nan])\n",
        "print(b)"
      ]
    },
    {
      "cell_type": "code",
      "execution_count": null,
      "metadata": {
        "id": "2HJC4OFmknne"
      },
      "outputs": [],
      "source": [
        ""
      ]
    }
  ],
  "metadata": {
    "kernelspec": {
      "display_name": "Python 3",
      "language": "python",
      "name": "python3"
    },
    "language_info": {
      "codemirror_mode": {
        "name": "ipython",
        "version": 3
      },
      "file_extension": ".py",
      "mimetype": "text/x-python",
      "name": "python",
      "nbconvert_exporter": "python",
      "pygments_lexer": "ipython3",
      "version": "3.8.5"
    },
    "colab": {
      "name": "Chap4.ipynb",
      "provenance": []
    }
  },
  "nbformat": 4,
  "nbformat_minor": 0
}