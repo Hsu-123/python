{
  "cells": [
    {
      "cell_type": "markdown",
      "metadata": {
        "id": "7Hxiwslxl5hb"
      },
      "source": [
        "# Chap6\n",
        "os套件：用來處理文件與目錄，與檔案相關操作"
      ]
    },
    {
      "cell_type": "code",
      "execution_count": null,
      "metadata": {
        "id": "28ZyrNPWl5hg",
        "outputId": "9c67a694-f0a5-4e24-8b10-d85bf73f7d6e"
      },
      "outputs": [
        {
          "name": "stdout",
          "output_type": "stream",
          "text": [
            "C:\\Users\\Administrator\n"
          ]
        }
      ],
      "source": [
        "import os\n",
        "print(os.getcwd()) #顯示目前所在的工作目錄"
      ]
    },
    {
      "cell_type": "code",
      "execution_count": null,
      "metadata": {
        "id": "zVVk4BNjl5hi",
        "outputId": "d2953d07-152a-4cbf-8c87-2652abdb5630"
      },
      "outputs": [
        {
          "data": {
            "text/plain": [
              "['.conda',\n",
              " '.condarc',\n",
              " '.config',\n",
              " '.dotnet',\n",
              " '.eclipse',\n",
              " '.ipynb_checkpoints',\n",
              " '.ipython',\n",
              " '.p2',\n",
              " '.packettracer',\n",
              " '.templateengine',\n",
              " '.tooling',\n",
              " '.VirtualBox',\n",
              " '.vscode',\n",
              " '3D Objects',\n",
              " 'anaconda3',\n",
              " 'AppData',\n",
              " 'Application Data',\n",
              " 'Chap6_inclass.ipynb',\n",
              " 'Cisco Packet Tracer 6.1.1sv',\n",
              " 'Cisco Packet Tracer 7.3.0',\n",
              " 'Cisco Packet Tracer 7.3.1',\n",
              " 'Contacts',\n",
              " 'Cookies',\n",
              " 'Desktop',\n",
              " 'Documents',\n",
              " 'Downloads',\n",
              " 'Favorites',\n",
              " 'Intel',\n",
              " 'IntelGraphicsProfiles',\n",
              " 'Links',\n",
              " 'Local Settings',\n",
              " 'MicrosoftEdgeBackups',\n",
              " 'Music',\n",
              " 'My Documents',\n",
              " 'NetHood',\n",
              " 'NTUSER.DAT',\n",
              " 'ntuser.dat.LOG1',\n",
              " 'ntuser.dat.LOG2',\n",
              " 'NTUSER.DAT{53b39e88-18c4-11ea-a811-000d3aa4692b}.TM.blf',\n",
              " 'NTUSER.DAT{53b39e88-18c4-11ea-a811-000d3aa4692b}.TMContainer00000000000000000001.regtrans-ms',\n",
              " 'NTUSER.DAT{53b39e88-18c4-11ea-a811-000d3aa4692b}.TMContainer00000000000000000002.regtrans-ms',\n",
              " 'ntuser.ini',\n",
              " 'Oracle',\n",
              " 'Pictures',\n",
              " 'PrintHood',\n",
              " 'Recent',\n",
              " 'Saved Games',\n",
              " 'Searches',\n",
              " 'SendTo',\n",
              " 'source',\n",
              " 'Templates',\n",
              " 'Videos',\n",
              " 'VirtualBox VMs',\n",
              " '「開始」功能表']"
            ]
          },
          "execution_count": 2,
          "metadata": {},
          "output_type": "execute_result"
        }
      ],
      "source": [
        "#顯示目錄下的檔案\n",
        "os.listdir(\".\")"
      ]
    },
    {
      "cell_type": "code",
      "execution_count": null,
      "metadata": {
        "id": "oZoJQPrNl5hj",
        "outputId": "bc737bbc-8526-4287-af96-b33494e81f98"
      },
      "outputs": [
        {
          "data": {
            "text/plain": [
              "['.conda',\n",
              " '.condarc',\n",
              " '.config',\n",
              " '.dotnet',\n",
              " '.eclipse',\n",
              " '.ipynb_checkpoints',\n",
              " '.ipython',\n",
              " '.p2',\n",
              " '.packettracer',\n",
              " '.templateengine',\n",
              " '.tooling',\n",
              " '.VirtualBox',\n",
              " '.vscode',\n",
              " '3D Objects',\n",
              " 'anaconda3',\n",
              " 'AppData',\n",
              " 'Application Data',\n",
              " 'Chap6_inclass.ipynb',\n",
              " 'Cisco Packet Tracer 6.1.1sv',\n",
              " 'Cisco Packet Tracer 7.3.0',\n",
              " 'Cisco Packet Tracer 7.3.1',\n",
              " 'Contacts',\n",
              " 'Cookies',\n",
              " 'Desktop',\n",
              " 'Documents',\n",
              " 'Downloads',\n",
              " 'Favorites',\n",
              " 'Intel',\n",
              " 'IntelGraphicsProfiles',\n",
              " 'Links',\n",
              " 'Local Settings',\n",
              " 'MicrosoftEdgeBackups',\n",
              " 'Music',\n",
              " 'My Documents',\n",
              " 'NetHood',\n",
              " 'NTUSER.DAT',\n",
              " 'ntuser.dat.LOG1',\n",
              " 'ntuser.dat.LOG2',\n",
              " 'NTUSER.DAT{53b39e88-18c4-11ea-a811-000d3aa4692b}.TM.blf',\n",
              " 'NTUSER.DAT{53b39e88-18c4-11ea-a811-000d3aa4692b}.TMContainer00000000000000000001.regtrans-ms',\n",
              " 'NTUSER.DAT{53b39e88-18c4-11ea-a811-000d3aa4692b}.TMContainer00000000000000000002.regtrans-ms',\n",
              " 'ntuser.ini',\n",
              " 'Oracle',\n",
              " 'Pictures',\n",
              " 'PrintHood',\n",
              " 'Recent',\n",
              " 'Saved Games',\n",
              " 'Searches',\n",
              " 'SendTo',\n",
              " 'source',\n",
              " 'Templates',\n",
              " 'test',\n",
              " 'Videos',\n",
              " 'VirtualBox VMs',\n",
              " '「開始」功能表']"
            ]
          },
          "execution_count": 3,
          "metadata": {},
          "output_type": "execute_result"
        }
      ],
      "source": [
        "#新增目錄\n",
        "os.makedirs(\"test\")\n",
        "os.listdir(\".\")"
      ]
    },
    {
      "cell_type": "code",
      "execution_count": null,
      "metadata": {
        "id": "ZJS9Esckl5hj",
        "outputId": "f36813fa-1407-4f9c-d88e-4f5cd7155257"
      },
      "outputs": [
        {
          "data": {
            "text/plain": [
              "['.conda',\n",
              " '.condarc',\n",
              " '.config',\n",
              " '.dotnet',\n",
              " '.eclipse',\n",
              " '.ipynb_checkpoints',\n",
              " '.ipython',\n",
              " '.p2',\n",
              " '.packettracer',\n",
              " '.templateengine',\n",
              " '.tooling',\n",
              " '.VirtualBox',\n",
              " '.vscode',\n",
              " '3D Objects',\n",
              " 'anaconda3',\n",
              " 'AppData',\n",
              " 'Application Data',\n",
              " 'Chap6_inclass.ipynb',\n",
              " 'Cisco Packet Tracer 6.1.1sv',\n",
              " 'Cisco Packet Tracer 7.3.0',\n",
              " 'Cisco Packet Tracer 7.3.1',\n",
              " 'Contacts',\n",
              " 'Cookies',\n",
              " 'Desktop',\n",
              " 'Documents',\n",
              " 'Downloads',\n",
              " 'Favorites',\n",
              " 'Intel',\n",
              " 'IntelGraphicsProfiles',\n",
              " 'Links',\n",
              " 'Local Settings',\n",
              " 'MicrosoftEdgeBackups',\n",
              " 'Music',\n",
              " 'My Documents',\n",
              " 'NetHood',\n",
              " 'NTUSER.DAT',\n",
              " 'ntuser.dat.LOG1',\n",
              " 'ntuser.dat.LOG2',\n",
              " 'NTUSER.DAT{53b39e88-18c4-11ea-a811-000d3aa4692b}.TM.blf',\n",
              " 'NTUSER.DAT{53b39e88-18c4-11ea-a811-000d3aa4692b}.TMContainer00000000000000000001.regtrans-ms',\n",
              " 'NTUSER.DAT{53b39e88-18c4-11ea-a811-000d3aa4692b}.TMContainer00000000000000000002.regtrans-ms',\n",
              " 'ntuser.ini',\n",
              " 'Oracle',\n",
              " 'Pictures',\n",
              " 'PrintHood',\n",
              " 'Recent',\n",
              " 'Saved Games',\n",
              " 'Searches',\n",
              " 'SendTo',\n",
              " 'source',\n",
              " 'Templates',\n",
              " 'Videos',\n",
              " 'VirtualBox VMs',\n",
              " '「開始」功能表']"
            ]
          },
          "execution_count": 4,
          "metadata": {},
          "output_type": "execute_result"
        }
      ],
      "source": [
        "#移除目錄\n",
        "os.rmdir(\"test\")\n",
        "os.listdir(\".\")"
      ]
    },
    {
      "cell_type": "markdown",
      "metadata": {
        "id": "PzqnmwAvl5hk"
      },
      "source": [
        "## 檔案處理\n",
        "os套件有自己的檔案處理命令，而比較常用的是python內建的open\n",
        "* w = 可寫(預設建立檔案) 若檔案存在則會清除舊檔案\n",
        "* w+ = 可寫可讀(預設建立檔案) 若檔案存在則會清除舊檔案\n",
        "* r = 可讀\n",
        "* r+ = 可寫可讀 但寫入資料指向開頭\n",
        "* a = 可寫不能讀 寫入資料指向尾端\n",
        "* a+ = 可寫可讀 寫入資料指向尾端\n",
        "* b = 轉為2進位文件\n",
        "* ab+ = 2進位文件的讀寫 寫入資料指向尾端"
      ]
    },
    {
      "cell_type": "markdown",
      "metadata": {
        "id": "Al1Xi1C6l5hk"
      },
      "source": [
        "## 新增檔案"
      ]
    },
    {
      "cell_type": "code",
      "execution_count": null,
      "metadata": {
        "id": "UXjeTG2il5hl"
      },
      "outputs": [],
      "source": [
        "a=open(\"a.txt\",\"w\") #新增檔案\n",
        "a.write(\"This is a test1\")\n",
        "a.write(\"This is a test2\\n\")\n",
        "a.write(\"This is a test3\\n\")\n",
        "a.close() #關閉檔案"
      ]
    },
    {
      "cell_type": "markdown",
      "metadata": {
        "id": "hXDaZl3Nl5hm"
      },
      "source": [
        "## 檢查檔案是否存在"
      ]
    },
    {
      "cell_type": "code",
      "execution_count": null,
      "metadata": {
        "id": "zrcGvRtQl5hn",
        "outputId": "e13b4429-2cce-4e4d-d4bf-520b1037f632"
      },
      "outputs": [
        {
          "data": {
            "text/plain": [
              "True"
            ]
          },
          "execution_count": 6,
          "metadata": {},
          "output_type": "execute_result"
        }
      ],
      "source": [
        "os.path.isfile(\"a.txt\")"
      ]
    },
    {
      "cell_type": "markdown",
      "metadata": {
        "id": "Wxqa4igCl5ho"
      },
      "source": [
        "## 讀取檔案"
      ]
    },
    {
      "cell_type": "code",
      "execution_count": null,
      "metadata": {
        "id": "CU5Xauc3l5ho",
        "outputId": "03dc17b2-bd1a-4dd2-d02f-1a8fe17f69c7"
      },
      "outputs": [
        {
          "name": "stdout",
          "output_type": "stream",
          "text": [
            "This is a test1This is a test2\n",
            "\n",
            "This is a test3\n",
            "\n",
            "\n"
          ]
        }
      ],
      "source": [
        "a=open(\"a.txt\",\"r\")\n",
        "print(a.readline())\n",
        "print(a.readline())\n",
        "print(a.readline()) #多餘的命令，檔案只有2行\n",
        "a.close()"
      ]
    },
    {
      "cell_type": "code",
      "execution_count": null,
      "metadata": {
        "id": "6x0lSCnMl5hp",
        "outputId": "d4d8a9a9-eb17-4529-d939-f85a329e4ae9"
      },
      "outputs": [
        {
          "name": "stdout",
          "output_type": "stream",
          "text": [
            "['This is a test1This is a test2\\n', 'This is a test3\\n']\n"
          ]
        }
      ],
      "source": [
        "a=open(\"a.txt\",\"r\")\n",
        "print(a.readlines())  #一次讀取多行，與a.read()命令相同\n",
        "a.close()"
      ]
    },
    {
      "cell_type": "code",
      "execution_count": null,
      "metadata": {
        "id": "7yMK2fdZl5hp",
        "outputId": "28c41af1-e361-45a4-bed6-4e3f9a807dfd"
      },
      "outputs": [
        {
          "name": "stdout",
          "output_type": "stream",
          "text": [
            "['This is a test1This is a test2\\n', 'This is a test3\\n']\n"
          ]
        }
      ],
      "source": [
        "#加上檔案是否存在的判斷\n",
        "if os.path.isfile(\"a.txt\"):\n",
        "    a=open(\"a.txt\",\"r\")\n",
        "    print(a.readlines())\n",
        "    a.close()\n",
        "else:\n",
        "    print(\"檔案不存在\")"
      ]
    },
    {
      "cell_type": "markdown",
      "metadata": {
        "id": "lcgVfc8cl5hq"
      },
      "source": [
        "## split函式"
      ]
    },
    {
      "cell_type": "code",
      "execution_count": null,
      "metadata": {
        "id": "KOn_5xNbl5hq",
        "outputId": "732865ae-5f93-4d41-a400-7df8ab36dc26"
      },
      "outputs": [
        {
          "name": "stdout",
          "output_type": "stream",
          "text": [
            "['This', 'is', 'a', 'test1This', 'is', 'a', 'test2\\n']\n",
            "['This', 'is', 'a', 'test3\\n']\n"
          ]
        }
      ],
      "source": [
        "if os.path.isfile(\"a.txt\"):\n",
        "    a=open(\"a.txt\",\"r\")\n",
        "    for line in a:\n",
        "        fields=line.split(\" \") #以空白為切割欄位\n",
        "        print(fields)\n",
        "    a.close()\n",
        "else:\n",
        "    print(\"檔案不存在\")\n",
        "        "
      ]
    },
    {
      "cell_type": "markdown",
      "metadata": {
        "id": "DTwMS7Ddl5hq"
      },
      "source": [
        "## 附加檔案"
      ]
    },
    {
      "cell_type": "code",
      "execution_count": null,
      "metadata": {
        "id": "zeLYIUWYl5hr"
      },
      "outputs": [],
      "source": [
        "a=open(\"a.txt\", \"a\")\n",
        "a.write(\"This is test4\\n\")\n",
        "a.close()"
      ]
    },
    {
      "cell_type": "code",
      "execution_count": null,
      "metadata": {
        "id": "FverKltNl5hr",
        "outputId": "8e6861a7-df2a-4a76-cb7f-ce97bbb0979d"
      },
      "outputs": [
        {
          "name": "stdout",
          "output_type": "stream",
          "text": [
            "['This is a test1This is a test2\\n', 'This is a test3\\n', 'This is test4\\n']\n"
          ]
        }
      ],
      "source": [
        "a=open(\"a.txt\",\"r\")\n",
        "print(a.readlines())\n",
        "a.close()"
      ]
    },
    {
      "cell_type": "markdown",
      "metadata": {
        "id": "QW-WuzNDl5hr"
      },
      "source": [
        "## 比較a與r+的不同\n",
        "* a寫在檔案的結尾\n",
        "* r+寫在檔案的開頭"
      ]
    },
    {
      "cell_type": "code",
      "execution_count": null,
      "metadata": {
        "id": "v9jm6o4kl5hs"
      },
      "outputs": [],
      "source": [
        "a=open(\"a.txt\",\"r+\")\n",
        "a.write(\"This is a test5\\n\")\n",
        "a.close()"
      ]
    },
    {
      "cell_type": "code",
      "execution_count": null,
      "metadata": {
        "id": "Lvd_U2jil5hs",
        "outputId": "479083a5-7ac8-4e12-9df3-94f2bd1c0e2f"
      },
      "outputs": [
        {
          "name": "stdout",
          "output_type": "stream",
          "text": [
            "['This is a test5\\n', 'is is a test2\\n', 'This is a test3\\n', 'This is test4\\n']\n"
          ]
        }
      ],
      "source": [
        "a=open(\"a.txt\",\"r\")\n",
        "print(a.readlines())\n",
        "a.close()"
      ]
    },
    {
      "cell_type": "markdown",
      "metadata": {
        "id": "m4YnlLhml5hs"
      },
      "source": [
        "## 刪除檔案"
      ]
    },
    {
      "cell_type": "code",
      "execution_count": null,
      "metadata": {
        "id": "0P5faW1fl5ht",
        "outputId": "0d888761-96dd-4f3a-8246-691d325125c7"
      },
      "outputs": [
        {
          "name": "stdout",
          "output_type": "stream",
          "text": [
            "檔案刪除成功\n",
            "False\n"
          ]
        }
      ],
      "source": [
        "if os.path.isfile(\"a.txt\"):\n",
        "    os.remove(\"a.txt\")\n",
        "    print(\"檔案刪除成功\")\n",
        "else:\n",
        "    print(\"找不到檔案\")\n",
        "print(os.path.isfile(\"a.txt\"))"
      ]
    },
    {
      "cell_type": "code",
      "execution_count": null,
      "metadata": {
        "id": "2GxStWtBl5ht"
      },
      "outputs": [],
      "source": [
        ""
      ]
    }
  ],
  "metadata": {
    "kernelspec": {
      "display_name": "Python 3",
      "language": "python",
      "name": "python3"
    },
    "language_info": {
      "codemirror_mode": {
        "name": "ipython",
        "version": 3
      },
      "file_extension": ".py",
      "mimetype": "text/x-python",
      "name": "python",
      "nbconvert_exporter": "python",
      "pygments_lexer": "ipython3",
      "version": "3.8.5"
    },
    "colab": {
      "name": "Chap6.ipynb",
      "provenance": []
    }
  },
  "nbformat": 4,
  "nbformat_minor": 0
}